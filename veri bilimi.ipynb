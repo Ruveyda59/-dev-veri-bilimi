{
 "cells": [
  {
   "cell_type": "code",
   "execution_count": 4,
   "id": "21dd6e0b-b9ee-41de-8dbf-99c20a180420",
   "metadata": {},
   "outputs": [
    {
     "name": "stdin",
     "output_type": "stream",
     "text": [
      "maaşınızı giriniz:  10000\n"
     ]
    },
    {
     "name": "stdout",
     "output_type": "stream",
     "text": [
      "yeni maaşınız: 9500.0\n"
     ]
    }
   ],
   "source": [
    "maas = float(input(\"maaşınızı giriniz: \" ))\n",
    "\n",
    "if maas <= 10000:\n",
    "    kesinti_oranı = 0.05\n",
    "elif maas <= 25000:\n",
    "    kesinti_oranı = 0.1\n",
    "elif mass <= 45000:\n",
    "    kesinti_oranı = 0.25\n",
    "else:\n",
    "    kesinti_oranı = 0.3\n",
    "\n",
    "kesinti_oranı = maas * kesinti_oranı\n",
    "yeni_maas = maas - kesinti_oranı\n",
    "\n",
    "print(\"yeni maaşınız:\",yeni_maas)"
   ]
  },
  {
   "cell_type": "code",
   "execution_count": 3,
   "id": "45c5aa96-8e16-4c94-bbff-c86547c973df",
   "metadata": {},
   "outputs": [
    {
     "name": "stdin",
     "output_type": "stream",
     "text": [
      "Kullanıcı adınızı oluşturun:  123456\n",
      "Şifizi girin:  123456\n"
     ]
    },
    {
     "name": "stdout",
     "output_type": "stream",
     "text": [
      "hesabınız oluşturuldu.\n"
     ]
    }
   ],
   "source": [
    "kullanici_adi = input(\"Kullanıcı adınızı oluşturun: \" )\n",
    "sifre = input(\"Şifizi girin: \" )\n",
    "\n",
    "if len(sifre) >= 6:\n",
    "    print(\"hesabınız oluşturuldu.\")\n",
    "    \n",
    "else:\n",
    "    print(\"Şifreniz en az altı haneli olmalıdır. Yeniden deneyin.\")"
   ]
  },
  {
   "cell_type": "code",
   "execution_count": null,
   "id": "f2c3d195-6377-4efe-8dd4-22dcecaf388e",
   "metadata": {},
   "outputs": [],
   "source": [
    "sifre = input(\"şifrenizi giriniz. \")\n",
    "sife_uzunluğu = len(şifre)\n",
    "\n",
    "if sifre_uzunlugu >= 5:\n",
    "     if sifre_uzunlugu <= 10:\n",
    "         print(\"şifre oluşturuldu.\")\n",
    "     else:\n",
    "         print(\"10'dan büyük olamaz.\")\n",
    "\n",
    "else: \n",
    "    print(\"52den küçük olamaz.\")\n",
    "    "
   ]
  },
  {
   "cell_type": "code",
   "execution_count": null,
   "id": "fdad535a-238e-427d-84e0-e11d761e1846",
   "metadata": {},
   "outputs": [],
   "source": [
    "kullanici_adi = input(\"Kullanıcı adınızı girin: \")\n",
    "sifre = input(\"Şifrenizi girin: \")\n",
    "\n",
    "dogru_sifre =\"123456\"\n",
    "hak_sayisi = 3\n",
    "\n",
    "while şifre !=dogru_şifre and hak_sayisi > 1:\n",
    "    hak_sayisi -= 1\n",
    "    print(\"yanlış şifre girildi.kalan hakkınız\" , hak_sayisi)\n",
    "    şifre = input(\"şifre giriniz. \")\n",
    "\n",
    "if sifre == dogru_sifre:\n",
    "    print(\"doğru şifre.\")\n",
    "\n",
    "else:\n",
    "    print(\"hakkınız kalmadı\")\n",
    "    \n",
    "          \n"
   ]
  },
  {
   "cell_type": "code",
   "execution_count": null,
   "id": "1836cf2f-9cf7-43d3-b612-00dd83ccaac9",
   "metadata": {},
   "outputs": [],
   "source": []
  },
  {
   "cell_type": "code",
   "execution_count": null,
   "id": "c28081d0-0968-4194-acd4-f7bffe5d4d9b",
   "metadata": {},
   "outputs": [],
   "source": []
  }
 ],
 "metadata": {
  "kernelspec": {
   "display_name": "Python 3 (ipykernel)",
   "language": "python",
   "name": "python3"
  },
  "language_info": {
   "codemirror_mode": {
    "name": "ipython",
    "version": 3
   },
   "file_extension": ".py",
   "mimetype": "text/x-python",
   "name": "python",
   "nbconvert_exporter": "python",
   "pygments_lexer": "ipython3",
   "version": "3.11.7"
  },
  "widgets": {
   "application/vnd.jupyter.widget-state+json": {
    "state": {},
    "version_major": 2,
    "version_minor": 0
   }
  }
 },
 "nbformat": 4,
 "nbformat_minor": 5
}
